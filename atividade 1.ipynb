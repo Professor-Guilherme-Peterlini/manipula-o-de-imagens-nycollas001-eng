{
 "cells": [
  {
   "cell_type": "code",
   "execution_count": 7,
   "metadata": {},
   "outputs": [
    {
     "name": "stdout",
     "output_type": "stream",
     "text": [
      "Requirement already satisfied: pillow in /home/codespace/.local/lib/python3.12/site-packages (11.0.0)\n",
      "Note: you may need to restart the kernel to use updated packages.\n"
     ]
    }
   ],
   "source": [
    "pip install pillow\n",
    "#istalkando a biblioteca"
   ]
  },
  {
   "cell_type": "code",
   "execution_count": 23,
   "metadata": {},
   "outputs": [],
   "source": [
    "from PIL import Image, ImageEnhance, ImageFilter\n",
    "#importanta a imagem de escolha"
   ]
  },
  {
   "cell_type": "code",
   "execution_count": 30,
   "metadata": {},
   "outputs": [],
   "source": [
    "imagem = Image.open('imagemdehacker.png')\n",
    "#abrir a imagem#"
   ]
  },
  {
   "cell_type": "code",
   "execution_count": 32,
   "metadata": {},
   "outputs": [
    {
     "name": "stdout",
     "output_type": "stream",
     "text": [
      "Formato: JPEG\n",
      "Tamanho: (1200, 675)\n",
      "Modo: RGB\n"
     ]
    }
   ],
   "source": [
    "# Exibindo informações básicas da imagem\n",
    "print(f\"Formato: {imagem.format}\")\n",
    "print(f\"Tamanho: {imagem.size}\")\n",
    "print(f\"Modo: {imagem.mode}\")"
   ]
  },
  {
   "cell_type": "code",
   "execution_count": 45,
   "metadata": {},
   "outputs": [],
   "source": [
    "#Crie uma função que redimensione a imagem para 50% do seu tamanho original:\n",
    "\n",
    "def redimensionar_imagem(imagem, fator=0.5):\n",
    "    novo_tamanho = (int(imagem.size[0] * fator), int(imagem.size[1] * fator))\n",
    "    imagem_redimensionada = imagem.resize(novo_tamanho)\n",
    "    return imagem_redimensionada\n"
   ]
  },
  {
   "cell_type": "code",
   "execution_count": 38,
   "metadata": {},
   "outputs": [],
   "source": [
    "imagem_pequena = redimensionar_imagem(imagem)\n",
    "imagem_pequena.save('imagem_redimensionada.png')"
   ]
  },
  {
   "cell_type": "code",
   "execution_count": 46,
   "metadata": {},
   "outputs": [],
   "source": [
    "#Experimente diferentes transformações geométricas \n",
    "\n",
    "\n",
    "def transformar_imagem(imagem):\n",
    "    # Rotação de 45 graus\n",
    "    rotacionada = imagem.rotate(45, expand=True)\n",
    "    \n",
    "    # Espelhamento horizontal\n",
    "    espelhada = imagem.transpose(Image.FLIP_LEFT_RIGHT)\n",
    "    \n",
    "    return rotacionada, espelhada"
   ]
  },
  {
   "cell_type": "code",
   "execution_count": 47,
   "metadata": {},
   "outputs": [],
   "source": [
    "# Teste as transformações que irei fazer\n",
    "rotacionada, espelhada = transformar_imagem(imagem)\n",
    "rotacionada.save('imagem_rotacionada.png')\n",
    "espelhada.save('imagem_espelhada.png')"
   ]
  },
  {
   "cell_type": "code",
   "execution_count": 53,
   "metadata": {},
   "outputs": [],
   "source": [
    "#Crie uma função que aplique diferentes filtros à imagem:\n",
    "def aplicar_filtros(imagem):\n",
    "#Aumentar nitidez\n",
    "    nitidez = imagem.filter(ImageFilter.SHARPEN)\n",
    "   \n",
    "#Aplicar desfoque \n",
    "    nitidez = imagem.filter(ImageFilter.BLUR)\n",
    "\n",
    "#Encontar bordas\n",
    "    bordas = imagem.filter(ImagemFilter.FIND_EDGES)\n",
    "\n",
    "    return nitidez, desfoque, bordas"
   ]
  },
  {
   "cell_type": "code",
   "execution_count": null,
   "metadata": {},
   "outputs": [],
   "source": [
    "#Teste os filtors\n",
    "nitidez, desfoque, bordas = aplicar_filtros(imagem)\n",
    "nitidez.save('imagem_nitida')"
   ]
  }
 ],
 "metadata": {
  "language_info": {
   "name": "python"
  }
 },
 "nbformat": 4,
 "nbformat_minor": 2
}
